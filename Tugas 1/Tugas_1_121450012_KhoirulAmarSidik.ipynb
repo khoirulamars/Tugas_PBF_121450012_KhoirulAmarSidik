{
 "cells": [
  {
   "attachments": {},
   "cell_type": "markdown",
   "metadata": {},
   "source": [
    "## Tugas 1 Pemrograman Berbasis Fungsi\n",
    "<table>\n",
    "  <tr>\n",
    "    <td>Nama</td>\n",
    "    <td>Khoirul Amar Sidik</td>\n",
    "  </tr>\n",
    "  <tr>\n",
    "    <td>NIM</td>\n",
    "    <td>121450012</td>\n",
    "  </tr>\n",
    "  <tr>\n",
    "    <td>Kelas</td>\n",
    "    <td>Pemrograman Berbasis Fungsi (RA)</td>\n",
    "  </tr>\n",
    "  <tr>\n",
    "    <td>Dosen</td>\n",
    "    <td>Ahmad Luky Ramdani, S.Komp., M.Kom</td>\n",
    "  </tr>\n",
    "</table>"
   ]
  },
  {
   "attachments": {},
   "cell_type": "markdown",
   "metadata": {},
   "source": [
    "1. Jelaskan menggunakan tabel mengenai kelebihan dan kekurangan paradigma procedural dibandingkan dengan object oriented (minimal 3)!\\\n",
    "**Jawab:**\n",
    "\n",
    "| Paradigma | Kelebihan | Kekurangan |\n",
    "|-----------|-----------|-----------|\n",
    "| **Procedural** | 1. Lebih mudah dipahami sebagai programmer pemula. <br> 2. Lebih efisien dari segi memori dan performa. <br> 3. Struktur program linear dan mudah diterapkan. <br> 4. Alur program lebih mudah untuk ditelusuri. | 1. Kurang fleksibel dan sulit untuk memodelkan objek-objek dalam dunia nyata. <br> 2. Lebih sulit untuk membuat kode yang reusable dan modulable. <br> 3. Kode prosedural sering kali tidak dapat digunakan ulang karena paradigma ini tidak membuat fungsi atau subprogram. <br> 4. Operasi program lebih diutamakan dibandingkan dengan pengolahan data. |\n",
    "| **Object Oriented** | 1. Lebih fleksibel dan mudah untuk memodelkan objek-objek dalam dunia nyata. <br> 2. Struktur program yang lebih cocok untuk masalah-masalah kompleks. <br> 3. Lebih baik dalam memodelkan masalah-masalah kompleks. <br> 4. Kode lebih mudah dikelola dan diteruskan oleh tim lain. | 1. Lebih sulit dipahami bagi programmer yang baru belajar pemrograman. <br> 2. Lebih memakan memori dan performa. <br> 3. Struktur program yang lebih abstrak dan sulit untuk dipahami bagi beberapa programmer. <br> 4. Kode lebih sulit diterima dan dipahami oleh tim pengembangan yang beragam. |"
   ]
  },
  {
   "attachments": {},
   "cell_type": "markdown",
   "metadata": {},
   "source": [
    "2.\tJelaskan menggunakan tabel mengenai kelebihan dan kekurangan paradigma object oriented dibandingkan dengan functional (minimal 3)!\\\n",
    "**Jawab:**\n",
    "\n",
    "| Paradigma | Kelebihan | Kekurangan |\n",
    "|-----------|-----------|-----------|\n",
    "| **Object Oriented** | 1. Kode yang lebih terorganisir dan mudah dipahami dengan memodelkan konsep dalam dunia nyata. <br> 2. Objek dapat digunakan berulang-ulang. <br> 3. Proses development lebih cepat. | 1. Terlalu banyak abstraksi dan objek yang berlebihan dapat membuat kode sulit dipahami. <br> 2. Kode yang terlalu terpusat pada objek dapat membuat proses debugging sulit. <br> 3. Runtime program lambat. |\n",
    "| **Functional** | 1. Mengubah masalah kompleks menjadi potongan-potongan kecil yang jauh lebih sederhana untuk diselesaikan. <br> 2. Penguinjian dan debugging lebih mudah. <br> 3. Dapat menggunakan konsep rekursi, sehingga membuat kode lebih sederhana. | 1. Menjaga reusability dari suatu fungsi adalah hal yang tidak mudah untuk dilakukan. <br> 2. Relatif sulit untuk dipelajari oleh pemula. <br> 3. Pemeliharaan sulit ketika digunakan untuk proyek sekala besar. |"
   ]
  },
  {
   "attachments": {},
   "cell_type": "markdown",
   "metadata": {},
   "source": [
    "3.\tJelaskan menggunakan tabel mengenai kelebihan dan kekurangan paradigma procedural dibandingkan dengan functional (minimal 3)!\\\n",
    "**Jawab:**\n",
    "\n",
    "| Paradigma | Kelebihan | Kekurangan |\n",
    "|-----------|-----------|-----------|\n",
    "| **Procedural** | 1. Struktur program yang jelas dan mudah dipahami. <br> 2. Proses debug yang lebih mudah karena lebih mudah diterapkan. <br> 3. Alur program lebih mudah untuk ditelusuri. | 1. Kurang fleksibel dan sulit untuk memodifikasi. <br> 2. Lebih sulit untuk memecahkan masalah kompleks. <br> 3. Lebih sulit untuk membuat program skala besar karena terlalu bergantung pada prosedur. |\n",
    "| **Functional** | 1. Cocok untuk aplikasi dengan logika matematis yang kompleks. <br> 2. Mengubah masalah kompleks menjadi potongan-potongan kecil yang jauh lebih sederhana untuk diselesaikan. <br> 3. Pengujian dan debugging lebih mudah. | 1. Lebih sulit untuk melakukan debug karena tidak adanya prosedur yang jelas. <br> 2. Menjaga reusability dari suatu fungsi adalah hal yang tidak mudah untuk dilakukan. <br> 3. Relatif sulit untuk dipelajari oleh pemula. |"
   ]
  },
  {
   "attachments": {},
   "cell_type": "markdown",
   "metadata": {},
   "source": [
    "4.\tApa yang dimaksud dengan pure functional programming language?\\\n",
    "**Jawab:**\n",
    "\n",
    "Pure functional programming language adalah bahasa pemrograman yang fungsi-fungsinya murni tidak mengizinkan adanya efek samping (side-effects) pada bahasa tersebut dan menekankan pada pemrosesan data yang tidak berubah. Ini berarti bahwa semua data dan operasi pada data hanya melalui fungsi, dan tidak ada variabel mutable atau perintah yang memodifikasi nilai."
   ]
  },
  {
   "attachments": {},
   "cell_type": "markdown",
   "metadata": {},
   "source": [
    "5.\tDari bahasa pemrograman FP di slide sebelumnya ( slide 14 ) , manakah yang termasuk pure functional programming language?\\\n",
    "**Jawab:** \n",
    "\n",
    "Tidak ada skala untuk menilai tingkat kemurnian bahasa fungsional. Jika bahasa tersebut mengizinkan adanya efek samping pada bahasa tersebut, maka bahasa tersebut tidak murni, begitu sebaliknya. Dengan definisi ini, yang termasuk pure functional programming language yaitu:\n",
    "\n",
    "1.\tHaskell adalah bahasa pemrograman fungsional murni. Karena Haskell mengikuti prinsip-prinsip dasar pemrograman fungsional, seperti immutability, referential transparency, dan high-order functions.\n",
    "2.\tStandard ML: Standard ML adalah bahasa pemrograman fungsional yang memiliki fitur yang sama seperti Haskell, seperti immutability dan referential transparency.\n",
    "\n",
    "Sementara itu Scala, Lisp, JavaScript dan Python bukan pure functional programming language karena memiliki fitur seperti variabel yang dapat diubah dan efek-efek samping.\n"
   ]
  },
  {
   "attachments": {},
   "cell_type": "markdown",
   "metadata": {},
   "source": [
    "6.  Membuat program Simple Password encryption, dengan ketentuan:\n",
    "\t1. Input password bertipe string dengan batasan panjang password 100 karakter\n",
    "\t2. Setiap karakter dari string tersebut diubah menjadi ASCII value\n",
    "\t3. Kemudian setiap ASCII value tersebut dikembangkan menjadi 3 value dengan dilakukan operasi berikut:\n",
    "\t\t1. Value pertama dibagi dengan integer 26 kemudian dibulatkan dan dijumlahkan dengan 80 kemudian diubah kembali menjadi karakter\n",
    "\t\t2. Value kedua dihitung sisa bagi dengan 26 kemudian dijumlahkan dengan 80 kemudian diubah kembali menjadi karakter\n",
    "\t\t3. Value ketiga adalah karakter ‘+’ jika value pertama lebih besar dari value kedua, atau value ketiga adalah karakter ‘-’ jika value pertama tidak lebih besar dari value kedua\n",
    "\t\t4. Deretkan value pertama, kedua dan ketiga untuk setiap karakter dalam password tersebut sehingga didapatkan password dalam bentuk baru\n",
    "\n",
    "**Jawab:**"
   ]
  },
  {
   "attachments": {},
   "cell_type": "markdown",
   "metadata": {},
   "source": [
    "## Menggunakan Paradigma Functional Programming"
   ]
  },
  {
   "cell_type": "code",
   "execution_count": 6,
   "metadata": {},
   "outputs": [],
   "source": [
    "from functools import reduce"
   ]
  },
  {
   "cell_type": "code",
   "execution_count": 7,
   "metadata": {},
   "outputs": [],
   "source": [
    "def enc(char: str) -> str:\n",
    "    ascii = ord(char)\n",
    "    first_value = (ascii // 26) + 80\n",
    "    second_value = (ascii % 26) + 80\n",
    "    third_value = '+' if first_value > second_value else '-'\n",
    "    return chr(first_value) + chr(second_value) + third_value\n",
    "\n",
    "def pw_enc(password: str) -> str:\n",
    "    return reduce(lambda result, char: result + enc(char), password, '') "
   ]
  },
  {
   "cell_type": "code",
   "execution_count": 8,
   "metadata": {},
   "outputs": [
    {
     "name": "stdout",
     "output_type": "stream",
     "text": [
      "Hasil enkripsi password :  Sf-Sc-T\\-Sc-T[-Se-TQ+TV-Sg-Se-Sg-Qh-Qg-\n"
     ]
    }
   ],
   "source": [
    "password = \"datascinece21\"\n",
    "encrypted_password = pw_enc(password)\n",
    "print(\"Hasil enkripsi password : \", encrypted_password)"
   ]
  },
  {
   "attachments": {},
   "cell_type": "markdown",
   "metadata": {},
   "source": [
    "## Menggunakan Paradigma Procedural"
   ]
  },
  {
   "cell_type": "code",
   "execution_count": 9,
   "metadata": {},
   "outputs": [],
   "source": [
    "def encrypt(pw):\n",
    "  splitpass = list(pw) \n",
    "  asciipass = list()\n",
    "  for char in splitpass:\n",
    "    asciichar = ord(char) \n",
    "    asciipass.append(asciichar) \n",
    "\n",
    "  encryptedpass = \"\"\n",
    "  for num in asciipass: \n",
    "    value_1 = num//26 + 80 \n",
    "    value_2 = num%26 + 80\n",
    "    if value_1 > value_2:\n",
    "      value_3 = '+'\n",
    "    else:\n",
    "      value_3 = '-'\n",
    "\n",
    "    encryptedpass = encryptedpass + chr(value_1) + chr(value_2) + value_3\n",
    "\n",
    "  return encryptedpass #akan mengembalikan password yang telah dienkripsi"
   ]
  },
  {
   "cell_type": "code",
   "execution_count": 10,
   "metadata": {},
   "outputs": [
    {
     "name": "stdout",
     "output_type": "stream",
     "text": [
      "Hasil enkripsi password : Sf-Sc-T\\-Sc-T[-Se-TQ+Sg-TV-Se-Sg-Qh-Qg-\n"
     ]
    }
   ],
   "source": [
    "print(\"Hasil enkripsi password : \", end=\"\")\n",
    "password = 'datascience21'\n",
    "hasilencrypt = encrypt(password)\n",
    "print(hasilencrypt)"
   ]
  }
 ],
 "metadata": {
  "kernelspec": {
   "display_name": "Python 3",
   "language": "python",
   "name": "python3"
  },
  "language_info": {
   "codemirror_mode": {
    "name": "ipython",
    "version": 3
   },
   "file_extension": ".py",
   "mimetype": "text/x-python",
   "name": "python",
   "nbconvert_exporter": "python",
   "pygments_lexer": "ipython3",
   "version": "3.9.2"
  },
  "orig_nbformat": 4,
  "vscode": {
   "interpreter": {
    "hash": "14958d3aee5f1cad06795f787e54b96185c25fb40dfec723a5be941f3a531b8c"
   }
  }
 },
 "nbformat": 4,
 "nbformat_minor": 2
}
