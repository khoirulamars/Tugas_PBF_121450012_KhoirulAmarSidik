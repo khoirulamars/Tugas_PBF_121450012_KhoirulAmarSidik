{
  "cells": [
    {
      "cell_type": "markdown",
      "metadata": {
        "id": "fc03nVpXxurU"
      },
      "source": [
        "# **Tugas Jurnal Kelompok 7 RA**"
      ]
    },
    {
      "cell_type": "markdown",
      "metadata": {
        "id": "HJfK1LVzgWnn"
      },
      "source": [
        "### Anggota Kelompok"
      ]
    },
    {
      "cell_type": "markdown",
      "metadata": {
        "id": "qTJVCHf5ZElM"
      },
      "source": [
        "\n",
        "\n",
        "| NIM       | Nama                       |\n",
        "|-----------|----------------------------|\n",
        "| 121450009 | PUTRI OLIVIA NURAENI       |\n",
        "| 121450012 | KHOIRUL AMAR SIDIK         |\n",
        "| 121450138 | LIA ALYANI                 |\n",
        "| 121450141 | TARISAH                    |\n",
        "| 121450153 | LEONARD ANDREAS NAPITUPULU |\n"
      ]
    },
    {
      "cell_type": "code",
      "execution_count": 1,
      "metadata": {},
      "outputs": [],
      "source": [
        "import timeit #library yang dapat digunakan untuk menghitung waktu komputasi"
      ]
    },
    {
      "cell_type": "markdown",
      "metadata": {
        "id": "SY6_zAk9xurd"
      },
      "source": [
        "## Nomor 1"
      ]
    },
    {
      "cell_type": "markdown",
      "metadata": {
        "id": "1QP8vcX4xurf"
      },
      "source": [
        "Buatlah fungsi komposisi dengan nilai:\n",
        "```\n",
        "f(x) = 4^x\n",
        "g(x) = x^x\n",
        "h(x) = 3 + x\n",
        "```\n",
        "dengan menggunakan pemrograman prosedural tiga fungsi dan pemrograman fungsional dengan lambda."
      ]
    },
    {
      "cell_type": "markdown",
      "metadata": {
        "id": "lfl_FGzQWB8s"
      },
      "source": [
        "### Pemrograman Prosedural Tiga Fungsi"
      ]
    },
    {
      "cell_type": "code",
      "execution_count": 2,
      "metadata": {
        "colab": {
          "base_uri": "https://localhost:8080/"
        },
        "id": "kYyavtVfRjQE",
        "outputId": "191a8afd-cdf6-40a3-a075-d0cfd23fdec5"
      },
      "outputs": [],
      "source": [
        "def f(x):\n",
        "  return 4**x\n",
        "def g(x):\n",
        "  return x**x\n",
        "def h(x):\n",
        "  return 3 + x\n",
        "\n",
        "def komposisi(x):\n",
        "  return h(g(f(x))) # h(g(f(x))) = 3 + (4^x)^(4^x)"
      ]
    },
    {
      "cell_type": "code",
      "execution_count": 15,
      "metadata": {},
      "outputs": [
        {
          "name": "stdout",
          "output_type": "stream",
          "text": [
            "Nilai komposisi fungsi h(g(f(1))):  3.7071067811865475\n",
            "Waktu Komputasi: 0.8338408000000044\n"
          ]
        }
      ],
      "source": [
        "print(\"Nilai komposisi fungsi h(g(f(1))): \", komposisi(1)) \n",
        "time1 = timeit.timeit(lambda: komposisi(1), number=1000000)\n",
        "print(\"Waktu Komputasi:\", time1)"
      ]
    },
    {
      "cell_type": "markdown",
      "metadata": {
        "id": "C42t9PdgWfIW"
      },
      "source": [
        "### Pemrograman Fungsional dengan lambda"
      ]
    },
    {
      "cell_type": "code",
      "execution_count": 16,
      "metadata": {
        "colab": {
          "base_uri": "https://localhost:8080/"
        },
        "id": "yvA-ByOgRp50",
        "outputId": "b4c59370-fb12-4fc0-ad3e-44e53386182e"
      },
      "outputs": [],
      "source": [
        "f = lambda x: 4**x\n",
        "g = lambda x: x**x\n",
        "h = lambda x: 3 + x\n",
        "\n",
        "fungsikomposisi = lambda x: h(g(f(x)))"
      ]
    },
    {
      "cell_type": "code",
      "execution_count": 21,
      "metadata": {},
      "outputs": [
        {
          "name": "stdout",
          "output_type": "stream",
          "text": [
            "Nilai komposisi fungsi h(g(f(1))):  259\n",
            "Waktu Komputasi: 0.775110699999999\n"
          ]
        }
      ],
      "source": [
        "print(\"Nilai komposisi fungsi h(g(f(1))): \", fungsikomposisi(1)) \n",
        "time2 = timeit.timeit(lambda: fungsikomposisi(1), number=1000000)\n",
        "print(\"Waktu Komputasi:\", time2)"
      ]
    },
    {
      "cell_type": "markdown",
      "metadata": {
        "id": "6diDKGUDxuri"
      },
      "source": [
        "## Nomor 2"
      ]
    },
    {
      "cell_type": "markdown",
      "metadata": {
        "id": "iTJ_4dwQxurj"
      },
      "source": [
        "Buatlah pemrograman berbasis objek pada soal Nomor 1"
      ]
    },
    {
      "cell_type": "code",
      "execution_count": 6,
      "metadata": {
        "colab": {
          "base_uri": "https://localhost:8080/"
        },
        "id": "fmQ7PFuZnxv5",
        "outputId": "3cfac279-0d05-4c0a-bcf0-95e98a15f696"
      },
      "outputs": [],
      "source": [
        "class komposisi2:\n",
        "    def __init__(self):\n",
        "        pass\n",
        "\n",
        "    def f(self, x):\n",
        "        return 4**x\n",
        "\n",
        "    def g(self, x):\n",
        "        return x**x\n",
        "\n",
        "    def h(self, x):\n",
        "        return 3 + x\n",
        "\n",
        "    def hitung(self, x):\n",
        "        return self.h(self.g(self.f(x)))"
      ]
    },
    {
      "cell_type": "code",
      "execution_count": 7,
      "metadata": {},
      "outputs": [
        {
          "name": "stdout",
          "output_type": "stream",
          "text": [
            "Nilai komposisi fungsi h(g(f(1))):  259\n",
            "Waktu Komputasi: 0.8000107999999999\n"
          ]
        }
      ],
      "source": [
        "comp = komposisi2()\n",
        "result = comp.hitung(1)\n",
        "print(\"Nilai komposisi fungsi h(g(f(1))): \", result) \n",
        "time3 = timeit.timeit(lambda: comp.hitung(1), number=1000000)\n",
        "print(\"Waktu Komputasi:\", time3)"
      ]
    },
    {
      "cell_type": "markdown",
      "metadata": {
        "id": "elHSnpQSxurk"
      },
      "source": [
        "## Nomor 3"
      ]
    },
    {
      "cell_type": "markdown",
      "metadata": {
        "id": "sNDulnl_xurl"
      },
      "source": [
        "Berikan Analisis Komparasi soal 1 dan 2"
      ]
    },
    {
      "attachments": {},
      "cell_type": "markdown",
      "metadata": {
        "id": "QnrihKo9w0Eg"
      },
      "source": [
        "Nomor 1 Paradigma pemrograman : Prosedural dan Fungsional\\\n",
        "Nomor 2 Paradigma pemrograman : OOP\n",
        "\n",
        "- Prosedural : Fungsi-fungsi didefinisikan sebagai tiga fungsi terpisah dan\n",
        "Fungsi-fungsi dipanggil secara berurutan.\n",
        "- Fungsional : Kode pemrograman fungsional menggunakan lambda function untuk membuat kode yang lebih pendek.\n",
        "- OOP : Fungsi-fungsi diorganisasi dalam satu kelas yang sama, sehingga keterkaitan antar fungsi menjadi lebih terstruktur.\n",
        "\n",
        "Untuk waktu komputasi sendiri untuk yang tercepat secara berurutan adalah Fungsional, OOP, dan Prosedural\n"
      ]
    },
    {
      "cell_type": "markdown",
      "metadata": {
        "id": "cSIT6J-Ixurm"
      },
      "source": [
        "## Nomor 4"
      ]
    },
    {
      "cell_type": "markdown",
      "metadata": {
        "id": "sYT-owk5xurn"
      },
      "source": [
        "Buatlah satu penyelesaian Luas Segitiga dengan menggunakan Pemrograman berorientasi Objek dengan pemrograman berbasis fungsi. Uji dengen membandingkan mana yang terceoat komputasinya. "
      ]
    },
    {
      "attachments": {},
      "cell_type": "markdown",
      "metadata": {},
      "source": [
        "Luas segitiga yang digunakan yaitu menggunakan formula heron, dimana kita dapat menggunakan rumus ini ketika kita mengetahui ketiga panjang sisi dari segitiga.\n",
        "\n",
        "```\n",
        "L = ((s(s-a)(s-b)(s-c)))^0.5\n",
        "dimana s = (a+b+c)/2\n",
        "```"
      ]
    },
    {
      "cell_type": "markdown",
      "metadata": {
        "id": "p7yep50JXOos"
      },
      "source": [
        "### Perhitungan luas segitiga dengan menggunakan OOP"
      ]
    },
    {
      "cell_type": "code",
      "execution_count": 8,
      "metadata": {
        "colab": {
          "base_uri": "https://localhost:8080/"
        },
        "id": "7dTPVl2Sbqe6",
        "outputId": "03dad05c-c75b-4c8e-f78f-38a2e2ee1270"
      },
      "outputs": [],
      "source": [
        "class Triangle:\n",
        "    def __init__(self, a, b, c):\n",
        "        self.a = a\n",
        "        self.b = b\n",
        "        self.c = c\n",
        "    \n",
        "    def area(self):\n",
        "        s = (self.a + self.b + self.c) / 2\n",
        "        return (s*(s-self.a)*(s-self.b)*(s-self.c)) ** 0.5"
      ]
    },
    {
      "cell_type": "code",
      "execution_count": 9,
      "metadata": {},
      "outputs": [
        {
          "name": "stdout",
          "output_type": "stream",
          "text": [
            "Luas segitiga =  30.0\n"
          ]
        }
      ],
      "source": [
        "sisi1 = float(input(\"Masukkan sisi 1 segitiga : \"))\n",
        "sisi2 = float(input(\"Masukkan sisi 2 segitiga : \"))\n",
        "sisi3 = float(input(\"Masukkan sisi 3 segitiga : \"))\n",
        "\n",
        "segitiga = Triangle(sisi1, sisi2, sisi3)\n",
        "\n",
        "luas = segitiga.area()\n",
        "\n",
        "print(\"Luas segitiga = \", luas)"
      ]
    },
    {
      "cell_type": "markdown",
      "metadata": {
        "id": "vz2kDavhXd0g"
      },
      "source": [
        "### Perhitungan luas segitiga dengan menggunakan pemrograman berbasis fungsi"
      ]
    },
    {
      "cell_type": "code",
      "execution_count": 10,
      "metadata": {
        "colab": {
          "base_uri": "https://localhost:8080/"
        },
        "id": "nlJkZUuSefSD",
        "outputId": "bcbd4203-1edb-4336-a762-279f9193947d"
      },
      "outputs": [],
      "source": [
        "def triangle_area(a, b, c):\n",
        "    s = (a + b + c) / 2\n",
        "    return (s*(s-a)*(s-b)*(s-c)) ** 0.5"
      ]
    },
    {
      "cell_type": "code",
      "execution_count": 11,
      "metadata": {},
      "outputs": [
        {
          "name": "stdout",
          "output_type": "stream",
          "text": [
            "Luas segitiga =  30.0\n"
          ]
        }
      ],
      "source": [
        "sisi1 = float(input(\"Masukkan sisi 1 segitiga : \"))\n",
        "sisi2 = float(input(\"Masukkan sisi 2 segitiga : \"))\n",
        "sisi3 = float(input(\"Masukkan sisi 3 segitiga : \"))\n",
        "\n",
        "luas = triangle_area(sisi1, sisi2, sisi3)\n",
        "\n",
        "print(\"Luas segitiga = \", luas)"
      ]
    },
    {
      "attachments": {},
      "cell_type": "markdown",
      "metadata": {},
      "source": [
        "### Perbandingan kecepatan komputasi OOP dan Funtional Programming"
      ]
    },
    {
      "cell_type": "code",
      "execution_count": 12,
      "metadata": {},
      "outputs": [
        {
          "name": "stdout",
          "output_type": "stream",
          "text": [
            "30.0\n",
            "30.0\n",
            "Waktu yang dibutuhkan pradigma OOP: 0.5480940000000007\n",
            "Waktu yang dibutuhkan pradigma Functional Programming: 0.4741876000000005\n"
          ]
        }
      ],
      "source": [
        "#OOP (menghitung luas segitiga)\n",
        "segitiga = Triangle(sisi1, sisi2, sisi3)\n",
        "print(segitiga.area())\n",
        "\n",
        "#Functional Programming (menghitung luas segitiga)\n",
        "print(triangle_area(sisi1, sisi2, sisi3))\n",
        "\n",
        "# Menghitung waktu komputasi paradigam OOP\n",
        "time1 = timeit.timeit(lambda: segitiga.area(), number=1000000)\n",
        "\n",
        "# Menghitung waktu paradigama functional programming\n",
        "time2 = timeit.timeit(lambda: triangle_area(5,12,13), number=1000000)\n",
        "\n",
        "print(\"Waktu yang dibutuhkan pradigma OOP:\", time1)\n",
        "print(\"Waktu yang dibutuhkan pradigma Functional Programming:\", time2)"
      ]
    },
    {
      "attachments": {},
      "cell_type": "markdown",
      "metadata": {},
      "source": [
        "### Kesimpulan Nomor 4"
      ]
    },
    {
      "attachments": {},
      "cell_type": "markdown",
      "metadata": {},
      "source": [
        "Setelah dilakukan perhitungan kecepatan komputasi dapat disimpulkan bahwa perhitungan luas segitiga yang menggunakan pemrograman berbasis fungsi lebih cepat dibandingkan perhitungan luas segitiga yang menggunakan OOP."
      ]
    },
    {
      "cell_type": "markdown",
      "metadata": {
        "id": "u3ZbvJGKxuro"
      },
      "source": [
        "## Nomor 5"
      ]
    },
    {
      "cell_type": "markdown",
      "metadata": {
        "id": "lL3jXYVrxurp"
      },
      "source": [
        "Diberikan algoritma metode bisection berikut:\n",
        "1. start\n",
        "2. Define function f(x)\n",
        "3. Choose initial guesses x0 dan x1 such that f(x0)*f(x1) < 0\n",
        "4. Choose pre-specified tolerabe error e.\n",
        "5. Calculate new approximated root as x2 = (x0 + x1)/2 \n",
        "6. Calculate f(x0)*f(x2)\n",
        "\n",
        "![image.png](data:image/png;base64,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)\n",
        "\n",
        "7. if |f(x2)| > e then goto (5) otherwise goto (8)\n",
        "8. Display x2 as root.\n",
        "9.  Stop\n",
        "\n",
        "Buatlah prosedural programming dari persoalan di atas ubahlah dengan funcional programming. Lakukan dengan batas toleransi 10^-5 dengan fungsi yang diberikan sebagai berikut: \n",
        "```\n",
        "x-2^-x\n",
        "```\n",
        "dan nilai a dan b adalah diantara 0 dan 1 (nilai antara tidak boleh 0 dan 1)"
      ]
    },
    {
      "cell_type": "markdown",
      "metadata": {
        "id": "I0Sks-bmQs65"
      },
      "source": [
        "### Paradigma Prosedural"
      ]
    },
    {
      "cell_type": "code",
      "execution_count": 13,
      "metadata": {
        "colab": {
          "base_uri": "https://localhost:8080/"
        },
        "id": "f187pWSCQJZN",
        "outputId": "d49abe4a-b570-44fb-b18a-1b5d27b75eb2"
      },
      "outputs": [
        {
          "name": "stdout",
          "output_type": "stream",
          "text": [
            "Iterasi ke-              x0                       x1                       x2                       \n",
            "1                        0.5                      0.7                      0.5                      \n",
            "2                        0.6                      0.7                      0.6                      \n",
            "3                        0.6                      0.6499999999999999       0.6499999999999999       \n",
            "4                        0.625                    0.6499999999999999       0.625                    \n",
            "5                        0.6375                   0.6499999999999999       0.6375                   \n",
            "6                        0.6375                   0.6437499999999999       0.6437499999999999       \n",
            "7                        0.640625                 0.6437499999999999       0.640625                 \n",
            "8                        0.640625                 0.6421874999999999       0.6421874999999999       \n",
            "9                        0.640625                 0.64140625               0.64140625               \n",
            "10                       0.641015625              0.64140625               0.641015625              \n",
            "11                       0.641015625              0.6412109374999999       0.6412109374999999       \n",
            "12                       0.64111328125            0.6412109374999999       0.64111328125            \n",
            "13                       0.641162109375           0.6412109374999999       0.641162109375           \n",
            "\n",
            "Aproksimasi akar persamaan ditemukan pada iterasi ke- 14\n"
          ]
        },
        {
          "data": {
            "text/plain": [
              "0.6411865234374999"
            ]
          },
          "execution_count": 13,
          "metadata": {},
          "output_type": "execute_result"
        }
      ],
      "source": [
        "def f(x):\n",
        "    # mendefinisikan fungsi \n",
        "    return x - 2**-x\n",
        "\n",
        "def bisection_method(x0, x1):\n",
        "    i = 0\n",
        "    print(\"{:<25}{:<25}{:<25}{:<25}\".format(\"Iterasi ke-\", \"x0\", \"x1\", \"x2\"))\n",
        "    while True:\n",
        "        x2 = (x0 + x1) / 2\n",
        "        fx0 = f(x0)\n",
        "        fx2 = f(x2)\n",
        "        i += 1\n",
        "        \n",
        "        if fx0 * fx2 < 0:\n",
        "            x1 = x2\n",
        "        elif fx0 * fx2 > 0:\n",
        "            x0 = x2\n",
        "        else:\n",
        "            # f(x2) pasti bernilai 0, maka kita menemukan aproksimasi akar persamaan tersebut\n",
        "            print(\"\\nAproksimasi akar persamaan ditemukan pada iterasi ke-\",i)\n",
        "            return x2\n",
        "        if abs(fx2) <= 10**(-5):\n",
        "            print(\"\\nAproksimasi akar persamaan ditemukan pada iterasi ke-\",i)\n",
        "            return x2\n",
        "        print(\"{:<25}{:<25}{:<25}{:<25}\".format(i, x0, x1, x2))\n",
        "\n",
        "\n",
        "batas_bawah = float(input('Masukan batas bawah (x0): '))\n",
        "batas_atas = float(input(\"Masukan batas atas (x1): \"))\n",
        "bisection_method(batas_bawah, batas_atas)"
      ]
    },
    {
      "cell_type": "markdown",
      "metadata": {
        "id": "uiAkyqTTS5Ed"
      },
      "source": [
        "### Functional Programming"
      ]
    },
    {
      "cell_type": "code",
      "execution_count": 14,
      "metadata": {
        "colab": {
          "base_uri": "https://localhost:8080/"
        },
        "id": "ZtIi7Eo4S7FZ",
        "outputId": "9878f2cc-9fd5-4a3d-e4ca-3afb22568e50"
      },
      "outputs": [
        {
          "name": "stdout",
          "output_type": "stream",
          "text": [
            "Iterasi ke-              x0                       x1                       x2                       \n",
            "0                        0.3                      0.7                      0.5                      \n",
            "1                        0.5                      0.7                      0.6                      \n",
            "2                        0.6                      0.7                      0.6499999999999999       \n",
            "3                        0.6                      0.6499999999999999       0.625                    \n",
            "4                        0.625                    0.6499999999999999       0.6375                   \n",
            "5                        0.6375                   0.6499999999999999       0.6437499999999999       \n",
            "6                        0.6375                   0.6437499999999999       0.640625                 \n",
            "7                        0.640625                 0.6437499999999999       0.6421874999999999       \n",
            "8                        0.640625                 0.6421874999999999       0.64140625               \n",
            "9                        0.640625                 0.64140625               0.641015625              \n",
            "10                       0.641015625              0.64140625               0.6412109374999999       \n",
            "11                       0.641015625              0.6412109374999999       0.64111328125            \n",
            "12                       0.64111328125            0.6412109374999999       0.641162109375           \n",
            "\n",
            "Aproksimasi akar persamaan ditemukan pada iterasi ke- 13\n"
          ]
        },
        {
          "data": {
            "text/plain": [
              "0.6411865234374999"
            ]
          },
          "execution_count": 14,
          "metadata": {},
          "output_type": "execute_result"
        }
      ],
      "source": [
        "def f(x):\n",
        "    # mendefinisikan fungsi \n",
        "    return x - 2**-x\n",
        "\n",
        "def bisection_method(x0, x1, i=0):\n",
        "    x2 = (x0 + x1) / 2\n",
        "    fx2 = f(x2)\n",
        "\n",
        "    if abs(fx2) <= 10**(-5):\n",
        "        print(\"\\nAproksimasi akar persamaan ditemukan pada iterasi ke-\",i)\n",
        "        return x2\n",
        "    \n",
        "    fx0, fx2 = f(x0), f(x2)\n",
        "\n",
        "    print(\"{:<25}{:<25}{:<25}{:<25}\".format(i, x0, x1, x2))\n",
        "\n",
        "    if fx0 * fx2 < 0:\n",
        "        return bisection_method(x0, x2, i+1)\n",
        "    elif fx0 * fx2 > 0:\n",
        "        return bisection_method(x2, x1, i+1)\n",
        "    else:\n",
        "        # f(x2) pasti bernilai 0, maka kita menemukan aproksimasi akar persamaan tersebut\n",
        "        print(\"\\nAproksimasi akar persamaan ditemukan pada iterasi ke-\",i)\n",
        "        return x2\n",
        "\n",
        "\n",
        "batas_bawah = float(input('Masukan batas bawah (x0): '))\n",
        "batas_atas = float(input(\"Masukan batas atas (x1): \"))\n",
        "print(\"{:<25}{:<25}{:<25}{:<25}\".format(\"Iterasi ke-\", \"x0\", \"x1\", \"x2\"))\n",
        "bisection_method(batas_bawah, batas_atas)"
      ]
    },
    {
      "cell_type": "markdown",
      "metadata": {
        "id": "XEy7A3pCTjtq"
      },
      "source": [
        "#### Kesimpulan Nomor 5"
      ]
    },
    {
      "cell_type": "markdown",
      "metadata": {
        "id": "TJ87zMgoTb_M"
      },
      "source": [
        "Fungsi bisection_method pada paradigma functional programming diimplementasikan menggunakan rekursi, di mana fungsi tersebut memanggil dirinya sendiri dengan nilai x0, x1, dan i yang diperbarui hingga kondisi berhenti terpenuhi. Fungsi tidak lagi menggunakan perulangan untuk melakukan iterasi. Ini merupakan salah satu ciri dari Functional Programming dimana tidak menggunaka  perulangan seperti for, while tetapi menggunakan rekursif."
      ]
    }
  ],
  "metadata": {
    "colab": {
      "provenance": []
    },
    "kernelspec": {
      "display_name": "Python 3",
      "language": "python",
      "name": "python3"
    },
    "language_info": {
      "codemirror_mode": {
        "name": "ipython",
        "version": 3
      },
      "file_extension": ".py",
      "mimetype": "text/x-python",
      "name": "python",
      "nbconvert_exporter": "python",
      "pygments_lexer": "ipython3",
      "version": "3.9.2"
    },
    "orig_nbformat": 4,
    "vscode": {
      "interpreter": {
        "hash": "14958d3aee5f1cad06795f787e54b96185c25fb40dfec723a5be941f3a531b8c"
      }
    }
  },
  "nbformat": 4,
  "nbformat_minor": 0
}
